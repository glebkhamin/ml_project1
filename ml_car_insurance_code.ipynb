{
 "cells": [
  {
   "cell_type": "code",
   "execution_count": 1,
   "id": "1d746c8b",
   "metadata": {
    "id": "1d746c8b"
   },
   "outputs": [],
   "source": [
    "from sklearn.linear_model import LogisticRegression\n",
    "from sklearn.svm import SVC\n",
    "from sklearn.neural_network import MLPClassifier\n",
    "from sklearn.neighbors import KNeighborsClassifier\n",
    "from sklearn import tree\n",
    "from sklearn.model_selection import train_test_split\n",
    "from sklearn.metrics import accuracy_score, f1_score, confusion_matrix, plot_confusion_matrix, classification_report\n",
    "\n",
    "from sklearn.pipeline import Pipeline\n",
    "from sklearn.preprocessing import StandardScaler, OneHotEncoder, OrdinalEncoder, LabelEncoder\n",
    "from sklearn.experimental import enable_iterative_imputer\n",
    "from sklearn.impute import SimpleImputer, KNNImputer, IterativeImputer "
   ]
  },
  {
   "cell_type": "code",
   "execution_count": 2,
   "id": "6a628193",
   "metadata": {
    "id": "6a628193"
   },
   "outputs": [],
   "source": [
    "import pandas as pd\n",
    "import seaborn as sns\n",
    "import matplotlib.pyplot as plt\n",
    "from matplotlib import *\n",
    "%matplotlib inline  \n",
    "import numpy as np"
   ]
  },
  {
   "cell_type": "code",
   "execution_count": 3,
   "id": "3f65a177",
   "metadata": {
    "colab": {
     "base_uri": "https://localhost:8080/",
     "height": 206
    },
    "id": "3f65a177",
    "outputId": "d54912e7-3294-452d-f713-97b71e795494"
   },
   "outputs": [
    {
     "data": {
      "text/html": [
       "<div>\n",
       "<style scoped>\n",
       "    .dataframe tbody tr th:only-of-type {\n",
       "        vertical-align: middle;\n",
       "    }\n",
       "\n",
       "    .dataframe tbody tr th {\n",
       "        vertical-align: top;\n",
       "    }\n",
       "\n",
       "    .dataframe thead th {\n",
       "        text-align: right;\n",
       "    }\n",
       "</style>\n",
       "<table border=\"1\" class=\"dataframe\">\n",
       "  <thead>\n",
       "    <tr style=\"text-align: right;\">\n",
       "      <th></th>\n",
       "      <th>id</th>\n",
       "      <th>Gender</th>\n",
       "      <th>Age</th>\n",
       "      <th>HasDrivingLicense</th>\n",
       "      <th>RegionID</th>\n",
       "      <th>Switch</th>\n",
       "      <th>VehicleAge</th>\n",
       "      <th>PastAccident</th>\n",
       "      <th>AnnualPremium</th>\n",
       "      <th>SalesChannelID</th>\n",
       "      <th>DaysSinceCreated</th>\n",
       "      <th>Result</th>\n",
       "    </tr>\n",
       "  </thead>\n",
       "  <tbody>\n",
       "    <tr>\n",
       "      <th>0</th>\n",
       "      <td>332804</td>\n",
       "      <td>Female</td>\n",
       "      <td>39.0</td>\n",
       "      <td>1.0</td>\n",
       "      <td>15.0</td>\n",
       "      <td>0.0</td>\n",
       "      <td>1-2 Year</td>\n",
       "      <td>NaN</td>\n",
       "      <td>£2,645.30</td>\n",
       "      <td>55</td>\n",
       "      <td>227</td>\n",
       "      <td>1</td>\n",
       "    </tr>\n",
       "    <tr>\n",
       "      <th>1</th>\n",
       "      <td>116249</td>\n",
       "      <td>Male</td>\n",
       "      <td>38.0</td>\n",
       "      <td>1.0</td>\n",
       "      <td>11.0</td>\n",
       "      <td>NaN</td>\n",
       "      <td>1-2 Year</td>\n",
       "      <td>NaN</td>\n",
       "      <td>£1,151.90</td>\n",
       "      <td>26</td>\n",
       "      <td>29</td>\n",
       "      <td>0</td>\n",
       "    </tr>\n",
       "    <tr>\n",
       "      <th>2</th>\n",
       "      <td>255006</td>\n",
       "      <td>Male</td>\n",
       "      <td>22.0</td>\n",
       "      <td>1.0</td>\n",
       "      <td>30.0</td>\n",
       "      <td>NaN</td>\n",
       "      <td>&lt; 1 Year</td>\n",
       "      <td>NaN</td>\n",
       "      <td>£2,265.90</td>\n",
       "      <td>152</td>\n",
       "      <td>166</td>\n",
       "      <td>0</td>\n",
       "    </tr>\n",
       "    <tr>\n",
       "      <th>3</th>\n",
       "      <td>317475</td>\n",
       "      <td>Female</td>\n",
       "      <td>23.0</td>\n",
       "      <td>1.0</td>\n",
       "      <td>NaN</td>\n",
       "      <td>NaN</td>\n",
       "      <td>&lt; 1 Year</td>\n",
       "      <td>NaN</td>\n",
       "      <td>£1,456.60</td>\n",
       "      <td>151</td>\n",
       "      <td>277</td>\n",
       "      <td>0</td>\n",
       "    </tr>\n",
       "    <tr>\n",
       "      <th>4</th>\n",
       "      <td>344213</td>\n",
       "      <td>Male</td>\n",
       "      <td>56.0</td>\n",
       "      <td>1.0</td>\n",
       "      <td>48.0</td>\n",
       "      <td>0.0</td>\n",
       "      <td>&gt; 2 Years</td>\n",
       "      <td>NaN</td>\n",
       "      <td>£131.50</td>\n",
       "      <td>154</td>\n",
       "      <td>155</td>\n",
       "      <td>0</td>\n",
       "    </tr>\n",
       "  </tbody>\n",
       "</table>\n",
       "</div>"
      ],
      "text/plain": [
       "       id  Gender   Age  HasDrivingLicense  RegionID  Switch VehicleAge  \\\n",
       "0  332804  Female  39.0                1.0      15.0     0.0   1-2 Year   \n",
       "1  116249    Male  38.0                1.0      11.0     NaN   1-2 Year   \n",
       "2  255006    Male  22.0                1.0      30.0     NaN   < 1 Year   \n",
       "3  317475  Female  23.0                1.0       NaN     NaN   < 1 Year   \n",
       "4  344213    Male  56.0                1.0      48.0     0.0  > 2 Years   \n",
       "\n",
       "  PastAccident AnnualPremium  SalesChannelID  DaysSinceCreated  Result  \n",
       "0          NaN    £2,645.30               55               227       1  \n",
       "1          NaN    £1,151.90               26                29       0  \n",
       "2          NaN    £2,265.90              152               166       0  \n",
       "3          NaN    £1,456.60              151               277       0  \n",
       "4          NaN      £131.50              154               155       0  "
      ]
     },
     "execution_count": 3,
     "metadata": {},
     "output_type": "execute_result"
    }
   ],
   "source": [
    "raw_df = pd.read_csv('CW1_data_202223.csv')\n",
    "raw_df.head()"
   ]
  },
  {
   "cell_type": "markdown",
   "id": "4830c400",
   "metadata": {
    "id": "4830c400"
   },
   "source": [
    "### Some Basic sanity checking"
   ]
  },
  {
   "cell_type": "code",
   "execution_count": 4,
   "id": "d2bcdf1d",
   "metadata": {
    "colab": {
     "base_uri": "https://localhost:8080/"
    },
    "id": "d2bcdf1d",
    "outputId": "5f3e2ec7-5d05-437d-8939-6edd35bc8321"
   },
   "outputs": [
    {
     "data": {
      "text/plain": [
       "304887"
      ]
     },
     "execution_count": 4,
     "metadata": {},
     "output_type": "execute_result"
    }
   ],
   "source": [
    "len(raw_df)"
   ]
  },
  {
   "cell_type": "code",
   "execution_count": 5,
   "id": "21016766",
   "metadata": {
    "id": "21016766"
   },
   "outputs": [],
   "source": [
    "raw_df.drop_duplicates(inplace=True)"
   ]
  },
  {
   "cell_type": "code",
   "execution_count": 6,
   "id": "a7694434",
   "metadata": {
    "colab": {
     "base_uri": "https://localhost:8080/"
    },
    "id": "a7694434",
    "outputId": "5ea9a475-f0a8-4db0-a55f-a949f217bed4"
   },
   "outputs": [
    {
     "data": {
      "text/plain": [
       "304887"
      ]
     },
     "execution_count": 6,
     "metadata": {},
     "output_type": "execute_result"
    }
   ],
   "source": [
    "len(raw_df)  #ok no duplicates"
   ]
  },
  {
   "cell_type": "code",
   "execution_count": 7,
   "id": "97cac912",
   "metadata": {
    "colab": {
     "base_uri": "https://localhost:8080/",
     "height": 300
    },
    "id": "97cac912",
    "outputId": "e7d82e77-5842-468e-be73-36cb714d331c"
   },
   "outputs": [
    {
     "data": {
      "text/html": [
       "<div>\n",
       "<style scoped>\n",
       "    .dataframe tbody tr th:only-of-type {\n",
       "        vertical-align: middle;\n",
       "    }\n",
       "\n",
       "    .dataframe tbody tr th {\n",
       "        vertical-align: top;\n",
       "    }\n",
       "\n",
       "    .dataframe thead th {\n",
       "        text-align: right;\n",
       "    }\n",
       "</style>\n",
       "<table border=\"1\" class=\"dataframe\">\n",
       "  <thead>\n",
       "    <tr style=\"text-align: right;\">\n",
       "      <th></th>\n",
       "      <th>id</th>\n",
       "      <th>Age</th>\n",
       "      <th>HasDrivingLicense</th>\n",
       "      <th>RegionID</th>\n",
       "      <th>Switch</th>\n",
       "      <th>SalesChannelID</th>\n",
       "      <th>DaysSinceCreated</th>\n",
       "      <th>Result</th>\n",
       "    </tr>\n",
       "  </thead>\n",
       "  <tbody>\n",
       "    <tr>\n",
       "      <th>count</th>\n",
       "      <td>304887.000000</td>\n",
       "      <td>274339.000000</td>\n",
       "      <td>274399.000000</td>\n",
       "      <td>274334.000000</td>\n",
       "      <td>152557.000000</td>\n",
       "      <td>304887.000000</td>\n",
       "      <td>304887.000000</td>\n",
       "      <td>304887.000000</td>\n",
       "    </tr>\n",
       "    <tr>\n",
       "      <th>mean</th>\n",
       "      <td>190594.098072</td>\n",
       "      <td>38.832561</td>\n",
       "      <td>0.997853</td>\n",
       "      <td>26.408892</td>\n",
       "      <td>0.458281</td>\n",
       "      <td>111.966591</td>\n",
       "      <td>154.272609</td>\n",
       "      <td>0.121970</td>\n",
       "    </tr>\n",
       "    <tr>\n",
       "      <th>std</th>\n",
       "      <td>110022.144283</td>\n",
       "      <td>15.504062</td>\n",
       "      <td>0.046281</td>\n",
       "      <td>13.213345</td>\n",
       "      <td>0.498258</td>\n",
       "      <td>54.230069</td>\n",
       "      <td>83.642389</td>\n",
       "      <td>0.327251</td>\n",
       "    </tr>\n",
       "    <tr>\n",
       "      <th>min</th>\n",
       "      <td>1.000000</td>\n",
       "      <td>20.000000</td>\n",
       "      <td>0.000000</td>\n",
       "      <td>0.000000</td>\n",
       "      <td>0.000000</td>\n",
       "      <td>1.000000</td>\n",
       "      <td>10.000000</td>\n",
       "      <td>0.000000</td>\n",
       "    </tr>\n",
       "    <tr>\n",
       "      <th>25%</th>\n",
       "      <td>95342.500000</td>\n",
       "      <td>25.000000</td>\n",
       "      <td>1.000000</td>\n",
       "      <td>15.000000</td>\n",
       "      <td>0.000000</td>\n",
       "      <td>26.000000</td>\n",
       "      <td>82.000000</td>\n",
       "      <td>0.000000</td>\n",
       "    </tr>\n",
       "    <tr>\n",
       "      <th>50%</th>\n",
       "      <td>190639.000000</td>\n",
       "      <td>36.000000</td>\n",
       "      <td>1.000000</td>\n",
       "      <td>28.000000</td>\n",
       "      <td>0.000000</td>\n",
       "      <td>131.000000</td>\n",
       "      <td>154.000000</td>\n",
       "      <td>0.000000</td>\n",
       "    </tr>\n",
       "    <tr>\n",
       "      <th>75%</th>\n",
       "      <td>285785.500000</td>\n",
       "      <td>49.000000</td>\n",
       "      <td>1.000000</td>\n",
       "      <td>35.000000</td>\n",
       "      <td>1.000000</td>\n",
       "      <td>152.000000</td>\n",
       "      <td>227.000000</td>\n",
       "      <td>0.000000</td>\n",
       "    </tr>\n",
       "    <tr>\n",
       "      <th>max</th>\n",
       "      <td>381109.000000</td>\n",
       "      <td>85.000000</td>\n",
       "      <td>1.000000</td>\n",
       "      <td>52.000000</td>\n",
       "      <td>1.000000</td>\n",
       "      <td>163.000000</td>\n",
       "      <td>299.000000</td>\n",
       "      <td>1.000000</td>\n",
       "    </tr>\n",
       "  </tbody>\n",
       "</table>\n",
       "</div>"
      ],
      "text/plain": [
       "                  id            Age  HasDrivingLicense       RegionID  \\\n",
       "count  304887.000000  274339.000000      274399.000000  274334.000000   \n",
       "mean   190594.098072      38.832561           0.997853      26.408892   \n",
       "std    110022.144283      15.504062           0.046281      13.213345   \n",
       "min         1.000000      20.000000           0.000000       0.000000   \n",
       "25%     95342.500000      25.000000           1.000000      15.000000   \n",
       "50%    190639.000000      36.000000           1.000000      28.000000   \n",
       "75%    285785.500000      49.000000           1.000000      35.000000   \n",
       "max    381109.000000      85.000000           1.000000      52.000000   \n",
       "\n",
       "              Switch  SalesChannelID  DaysSinceCreated         Result  \n",
       "count  152557.000000   304887.000000     304887.000000  304887.000000  \n",
       "mean        0.458281      111.966591        154.272609       0.121970  \n",
       "std         0.498258       54.230069         83.642389       0.327251  \n",
       "min         0.000000        1.000000         10.000000       0.000000  \n",
       "25%         0.000000       26.000000         82.000000       0.000000  \n",
       "50%         0.000000      131.000000        154.000000       0.000000  \n",
       "75%         1.000000      152.000000        227.000000       0.000000  \n",
       "max         1.000000      163.000000        299.000000       1.000000  "
      ]
     },
     "execution_count": 7,
     "metadata": {},
     "output_type": "execute_result"
    }
   ],
   "source": [
    "raw_df.describe()  #some datatypes are messed up and should be fixed (e.g. region ID shouldnt be a float)"
   ]
  },
  {
   "cell_type": "markdown",
   "id": "2f8f23f3",
   "metadata": {
    "id": "2f8f23f3"
   },
   "source": [
    "The rest looks good, for example maximum age 85 - if it was something really high we would know that something is not right and needs to be fixed but data looks \"correct\".\n",
    "\n",
    "Yet the pound sign and the comma ... let's fix that."
   ]
  },
  {
   "cell_type": "code",
   "execution_count": 8,
   "id": "b3586c88",
   "metadata": {
    "colab": {
     "base_uri": "https://localhost:8080/",
     "height": 35
    },
    "id": "b3586c88",
    "outputId": "88d70094-f4d0-464a-d4f6-f3fa9e34be29"
   },
   "outputs": [
    {
     "data": {
      "text/plain": [
       "'2645.30'"
      ]
     },
     "execution_count": 8,
     "metadata": {},
     "output_type": "execute_result"
    }
   ],
   "source": [
    "\"£2,645.30\"[1:].replace(\",\", \"\")"
   ]
  },
  {
   "cell_type": "code",
   "execution_count": 9,
   "id": "f1a5b07c",
   "metadata": {
    "id": "f1a5b07c"
   },
   "outputs": [],
   "source": [
    "def fix_AP(amount_str):\n",
    "    return amount_str[1:].replace(\",\", \"\")"
   ]
  },
  {
   "cell_type": "code",
   "execution_count": 10,
   "id": "2fa05864",
   "metadata": {
    "id": "2fa05864"
   },
   "outputs": [],
   "source": [
    "raw_df[\"AnnualPremium_fixed\"] = raw_df.AnnualPremium.apply(fix_AP)"
   ]
  },
  {
   "cell_type": "code",
   "execution_count": 11,
   "id": "4689eded",
   "metadata": {
    "id": "4689eded"
   },
   "outputs": [],
   "source": [
    "raw_df.AnnualPremium_fixed = raw_df.AnnualPremium_fixed.astype(float)"
   ]
  },
  {
   "cell_type": "code",
   "execution_count": 12,
   "id": "edd4fbca",
   "metadata": {
    "colab": {
     "base_uri": "https://localhost:8080/",
     "height": 405
    },
    "id": "edd4fbca",
    "outputId": "f9b4d9dc-d97d-4f82-fc3e-320ce713b1e9"
   },
   "outputs": [
    {
     "data": {
      "text/plain": [
       "<seaborn.axisgrid.FacetGrid at 0x7fb4f04a3460>"
      ]
     },
     "execution_count": 12,
     "metadata": {},
     "output_type": "execute_result"
    },
    {
     "data": {
      "text/plain": [
       "<Figure size 1440x432 with 0 Axes>"
      ]
     },
     "metadata": {},
     "output_type": "display_data"
    },
    {
     "data": {
      "image/png": "[encoded data removed]",
      "text/plain": [
       "<Figure size 421.25x360 with 1 Axes>"
      ]
     },
     "metadata": {
      "needs_background": "light"
     },
     "output_type": "display_data"
    }
   ],
   "source": [
    "plt.figure(figsize=(20,6))\n",
    "sns.displot(\n",
    "    data=raw_df.isna().melt(value_name=\"missing\"),\n",
    "    y=\"variable\",\n",
    "    hue=\"missing\",\n",
    "    multiple=\"fill\",\n",
    "    aspect=1\n",
    ")\n"
   ]
  },
  {
   "cell_type": "code",
   "execution_count": 13,
   "id": "ab3e80f3",
   "metadata": {
    "colab": {
     "base_uri": "https://localhost:8080/"
    },
    "id": "ab3e80f3",
    "outputId": "2d3f6a6f-cab3-4a1c-81c4-02c9d5b410da"
   },
   "outputs": [
    {
     "data": {
      "text/plain": [
       "0    267700\n",
       "1     37187\n",
       "Name: Result, dtype: int64"
      ]
     },
     "execution_count": 13,
     "metadata": {},
     "output_type": "execute_result"
    }
   ],
   "source": [
    "raw_df.Result.value_counts()"
   ]
  },
  {
   "cell_type": "markdown",
   "id": "6c6340b8",
   "metadata": {
    "id": "6c6340b8"
   },
   "source": [
    "We see an imbalanced dataset but given we have quite a significant amount of data, we can try downsampling"
   ]
  },
  {
   "cell_type": "markdown",
   "id": "e2fb3680",
   "metadata": {
    "id": "e2fb3680"
   },
   "source": [
    "### Exploratory Data Analysis"
   ]
  },
  {
   "cell_type": "markdown",
   "id": "ba93d922",
   "metadata": {
    "id": "ba93d922"
   },
   "source": [
    "- Gender does not seem to play a role in whether someone is interested or not\n",
    "- Has Driving License is a useless feature because almost everyone has one\n",
    "- Switch is an important feature but I am not sure what it means - but if Switch is positive, no one is interested. However, a lot of that data is missing\n",
    "- Age of Vehicle seems to play a role - the proportion of those who are interested is higher for those with >2 years than those who have a very new one (<1)\n",
    "- Obviously those who had a past accident are more interested in the purchase\n",
    "- Nothing too interesting in Region ID and Saleschannel ID, probably not too important\n",
    "- Older people are more interested\n",
    "- The mean for days since created is exactly the same so most likely not important but could create buckets and see whether there are any with a different trend\n",
    "- It is the same for Annual premium\n"
   ]
  },
  {
   "cell_type": "code",
   "execution_count": 14,
   "id": "7d2319f1",
   "metadata": {
    "colab": {
     "base_uri": "https://localhost:8080/",
     "height": 297
    },
    "id": "7d2319f1",
    "outputId": "33bed4d0-3a92-4538-a3e9-b994b46ef402"
   },
   "outputs": [
    {
     "data": {
      "text/plain": [
       "<AxesSubplot:xlabel='Switch', ylabel='count'>"
      ]
     },
     "execution_count": 14,
     "metadata": {},
     "output_type": "execute_result"
    },
    {
     "data": {
      "image/png": "[encoded data removed]",
      "text/plain": [
       "<Figure size 432x288 with 1 Axes>"
      ]
     },
     "metadata": {
      "needs_background": "light"
     },
     "output_type": "display_data"
    }
   ],
   "source": [
    "sns.countplot(x=\"Switch\",hue=\"Result\", data=raw_df)"
   ]
  },
  {
   "cell_type": "code",
   "execution_count": 15,
   "id": "021233cd",
   "metadata": {
    "colab": {
     "base_uri": "https://localhost:8080/",
     "height": 299
    },
    "id": "021233cd",
    "outputId": "1a03f3a6-a4db-4fc2-c900-a3d04379178a"
   },
   "outputs": [
    {
     "data": {
      "text/plain": [
       "<AxesSubplot:xlabel='HasDrivingLicense', ylabel='count'>"
      ]
     },
     "execution_count": 15,
     "metadata": {},
     "output_type": "execute_result"
    },
    {
     "data": {
      "image/png": "[encoded data removed]",
      "text/plain": [
       "<Figure size 432x288 with 1 Axes>"
      ]
     },
     "metadata": {
      "needs_background": "light"
     },
     "output_type": "display_data"
    }
   ],
   "source": [
    "sns.countplot(x=\"HasDrivingLicense\",hue=\"Result\", data=raw_df)"
   ]
  },
  {
   "cell_type": "code",
   "execution_count": 16,
   "id": "dd08ba86",
   "metadata": {
    "colab": {
     "base_uri": "https://localhost:8080/",
     "height": 297
    },
    "id": "dd08ba86",
    "outputId": "32b0f0e0-c437-48c5-b96f-18cac613fa28"
   },
   "outputs": [
    {
     "data": {
      "text/plain": [
       "<AxesSubplot:xlabel='Gender', ylabel='count'>"
      ]
     },
     "execution_count": 16,
     "metadata": {},
     "output_type": "execute_result"
    },
    {
     "data": {
      "image/png": "[encoded data removed]",
      "text/plain": [
       "<Figure size 432x288 with 1 Axes>"
      ]
     },
     "metadata": {
      "needs_background": "light"
     },
     "output_type": "display_data"
    }
   ],
   "source": [
    "sns.countplot(x=\"Gender\",hue=\"Result\", data=raw_df)"
   ]
  },
  {
   "cell_type": "code",
   "execution_count": 17,
   "id": "0cd4b024",
   "metadata": {
    "colab": {
     "base_uri": "https://localhost:8080/",
     "height": 297
    },
    "id": "0cd4b024",
    "outputId": "0adec3c7-9850-4a6b-80f8-9d8cefcc5a89"
   },
   "outputs": [
    {
     "data": {
      "text/plain": [
       "<AxesSubplot:xlabel='VehicleAge', ylabel='count'>"
      ]
     },
     "execution_count": 17,
     "metadata": {},
     "output_type": "execute_result"
    },
    {
     "data": {
      "image/png": "[encoded data removed]",
      "text/plain": [
       "<Figure size 432x288 with 1 Axes>"
      ]
     },
     "metadata": {
      "needs_background": "light"
     },
     "output_type": "display_data"
    }
   ],
   "source": [
    "sns.countplot(x=\"VehicleAge\",hue=\"Result\", data=raw_df)"
   ]
  },
  {
   "cell_type": "code",
   "execution_count": 18,
   "id": "18ba1d6e",
   "metadata": {
    "colab": {
     "base_uri": "https://localhost:8080/",
     "height": 297
    },
    "id": "18ba1d6e",
    "outputId": "5eec6c85-aa69-419b-95ca-17914d1276bf",
    "scrolled": true
   },
   "outputs": [
    {
     "data": {
      "text/plain": [
       "<AxesSubplot:xlabel='PastAccident', ylabel='count'>"
      ]
     },
     "execution_count": 18,
     "metadata": {},
     "output_type": "execute_result"
    },
    {
     "data": {
      "image/png": "[encoded data removed]",
      "text/plain": [
       "<Figure size 432x288 with 1 Axes>"
      ]
     },
     "metadata": {
      "needs_background": "light"
     },
     "output_type": "display_data"
    }
   ],
   "source": [
    "sns.countplot(x=\"PastAccident\",hue=\"Result\", data=raw_df)"
   ]
  },
  {
   "cell_type": "code",
   "execution_count": 19,
   "id": "400aed17",
   "metadata": {
    "colab": {
     "base_uri": "https://localhost:8080/",
     "height": 515
    },
    "id": "400aed17",
    "outputId": "8a08841d-3266-4c47-d366-b08bc00903cb"
   },
   "outputs": [
    {
     "data": {
      "text/plain": [
       "<AxesSubplot:xlabel='RegionID', ylabel='count'>"
      ]
     },
     "execution_count": 19,
     "metadata": {},
     "output_type": "execute_result"
    },
    {
     "data": {
      "image/png": "[encoded data removed]",
      "text/plain": [
       "<Figure size 1440x576 with 1 Axes>"
      ]
     },
     "metadata": {
      "needs_background": "light"
     },
     "output_type": "display_data"
    }
   ],
   "source": [
    "plt.figure(figsize=(20,8))\n",
    "sns.countplot(x=\"RegionID\",hue=\"Result\", data=raw_df)"
   ]
  },
  {
   "cell_type": "code",
   "execution_count": 20,
   "id": "e7134af4",
   "metadata": {
    "colab": {
     "base_uri": "https://localhost:8080/",
     "height": 515
    },
    "id": "e7134af4",
    "outputId": "643de941-b555-4153-c010-6433cd024536"
   },
   "outputs": [
    {
     "data": {
      "text/plain": [
       "<AxesSubplot:xlabel='SalesChannelID', ylabel='count'>"
      ]
     },
     "execution_count": 20,
     "metadata": {},
     "output_type": "execute_result"
    },
    {
     "data": {
      "image/png": "[encoded data removed]",
      "text/plain": [
       "<Figure size 1440x576 with 1 Axes>"
      ]
     },
     "metadata": {
      "needs_background": "light"
     },
     "output_type": "display_data"
    }
   ],
   "source": [
    "plt.figure(figsize=(20,8))\n",
    "\n",
    "sns.countplot(x=\"SalesChannelID\",hue=\"Result\", data=raw_df)"
   ]
  },
  {
   "cell_type": "markdown",
   "id": "3a5cf7a6",
   "metadata": {
    "id": "3a5cf7a6"
   },
   "source": [
    "The other variables are continuous so let's create some boxplots"
   ]
  },
  {
   "cell_type": "code",
   "execution_count": 21,
   "id": "cc8b20c2",
   "metadata": {
    "colab": {
     "base_uri": "https://localhost:8080/",
     "height": 297
    },
    "id": "cc8b20c2",
    "outputId": "f89ba53b-8646-412e-d140-0c123a1c4a3b"
   },
   "outputs": [
    {
     "data": {
      "text/plain": [
       "<AxesSubplot:xlabel='Result', ylabel='Age'>"
      ]
     },
     "execution_count": 21,
     "metadata": {},
     "output_type": "execute_result"
    },
    {
     "data": {
      "image/png": "[encoded data removed]",
      "text/plain": [
       "<Figure size 432x288 with 1 Axes>"
      ]
     },
     "metadata": {
      "needs_background": "light"
     },
     "output_type": "display_data"
    }
   ],
   "source": [
    "sns.boxplot(x='Result',y='Age',data=raw_df,palette='winter')"
   ]
  },
  {
   "cell_type": "code",
   "execution_count": 22,
   "id": "8d03cb34",
   "metadata": {
    "colab": {
     "base_uri": "https://localhost:8080/",
     "height": 297
    },
    "id": "8d03cb34",
    "outputId": "d5f5b469-d8bd-48ad-fbda-f4e61cb56966",
    "scrolled": false
   },
   "outputs": [
    {
     "data": {
      "text/plain": [
       "<AxesSubplot:xlabel='Result', ylabel='DaysSinceCreated'>"
      ]
     },
     "execution_count": 22,
     "metadata": {},
     "output_type": "execute_result"
    },
    {
     "data": {
      "image/png": "[encoded data removed]",
      "text/plain": [
       "<Figure size 432x288 with 1 Axes>"
      ]
     },
     "metadata": {
      "needs_background": "light"
     },
     "output_type": "display_data"
    }
   ],
   "source": [
    "sns.boxplot(x='Result',y='DaysSinceCreated',data=raw_df,palette='winter')"
   ]
  },
  {
   "cell_type": "code",
   "execution_count": 23,
   "id": "44da8a53",
   "metadata": {
    "colab": {
     "base_uri": "https://localhost:8080/",
     "height": 297
    },
    "id": "44da8a53",
    "outputId": "baa2274f-5aa9-421d-f0eb-46fa9ae845f4"
   },
   "outputs": [
    {
     "data": {
      "text/plain": [
       "<AxesSubplot:xlabel='Result', ylabel='AnnualPremium_fixed'>"
      ]
     },
     "execution_count": 23,
     "metadata": {},
     "output_type": "execute_result"
    },
    {
     "data": {
      "image/png": "[encoded data removed]",
      "text/plain": [
       "<Figure size 432x288 with 1 Axes>"
      ]
     },
     "metadata": {
      "needs_background": "light"
     },
     "output_type": "display_data"
    }
   ],
   "source": [
    "sns.boxplot(x='Result',y='AnnualPremium_fixed',data=raw_df,palette='winter')"
   ]
  },
  {
   "cell_type": "code",
   "execution_count": 24,
   "id": "e93123f5",
   "metadata": {
    "id": "e93123f5"
   },
   "outputs": [],
   "source": [
    "raw_df['AgeGroup'] = pd.cut(raw_df['Age'],bins=[20, 30, 40, 50, 60, 70, 80, np.inf], labels=['20-30','30-40','40-50', '50-60','60-70', '70-80', '80+'])\n"
   ]
  },
  {
   "cell_type": "code",
   "execution_count": 25,
   "id": "c03f083b",
   "metadata": {
    "colab": {
     "base_uri": "https://localhost:8080/",
     "height": 297
    },
    "id": "c03f083b",
    "outputId": "199b5986-0f41-4357-c1b9-895cdd49b52a"
   },
   "outputs": [
    {
     "data": {
      "text/plain": [
       "<AxesSubplot:xlabel='AgeGroup', ylabel='count'>"
      ]
     },
     "execution_count": 25,
     "metadata": {},
     "output_type": "execute_result"
    },
    {
     "data": {
      "image/png": "[encoded data removed]",
      "text/plain": [
       "<Figure size 432x288 with 1 Axes>"
      ]
     },
     "metadata": {
      "needs_background": "light"
     },
     "output_type": "display_data"
    }
   ],
   "source": [
    "sns.countplot(x=\"AgeGroup\",hue=\"Result\", data=raw_df)"
   ]
  },
  {
   "cell_type": "markdown",
   "id": "yLNRIANaAJ-U",
   "metadata": {
    "id": "yLNRIANaAJ-U"
   },
   "source": [
    "The dataset was highly imbalanced in regard to the target variable with only 12.2% interested in buying car insurance. Gender did not seem to play a significant.\n",
    "\n",
    "Having a driving licence is a useless feature because only 0.2% of clients did not have a driving licence. The mean for the number of days since the current policy was created and the mean for the annual premium were the same for both groups, so most likely these features will not significantly contribute to model performance and do not have a lot of predictive power. \n",
    "\n",
    "The two most important features were past accidents and switch. We can see below that only those who did not switch were interested in car insurance, and almost everyone who had a past accident was interested."
   ]
  },
  {
   "cell_type": "markdown",
   "id": "ae01603e",
   "metadata": {
    "id": "ae01603e"
   },
   "source": [
    "### Handling missing values\n",
    "\n",
    "We would loose 85% of our data if we simply dropped the missing values thus we need to impute them. However, out of curiousity, we can also use only 15% of the data and compare those models"
   ]
  },
  {
   "cell_type": "code",
   "execution_count": 26,
   "id": "85519c7a",
   "metadata": {
    "colab": {
     "base_uri": "https://localhost:8080/"
    },
    "id": "85519c7a",
    "outputId": "b3697c2e-6dde-4bde-c2b2-90a90ec4b12f"
   },
   "outputs": [
    {
     "name": "stdout",
     "output_type": "stream",
     "text": [
      "Number of rows with nulls: 260510\n",
      "% of data lost if all null rows were dropped: 85.44%\n"
     ]
    }
   ],
   "source": [
    "print('Number of rows with nulls: {}'.format(raw_df.shape[0] - raw_df.dropna().shape[0]))\n",
    "print('% of data lost if all null rows were dropped: {:2.2%}'.format(1 - (raw_df.dropna().shape[0] / raw_df.shape[0])))"
   ]
  },
  {
   "cell_type": "code",
   "execution_count": 27,
   "id": "6f22f38e",
   "metadata": {
    "colab": {
     "base_uri": "https://localhost:8080/"
    },
    "id": "6f22f38e",
    "outputId": "a3a02d18-8e0e-46a6-c0d4-356822377a13"
   },
   "outputs": [
    {
     "data": {
      "text/plain": [
       "Index(['id', 'Gender', 'Age', 'HasDrivingLicense', 'RegionID', 'Switch',\n",
       "       'VehicleAge', 'PastAccident', 'AnnualPremium', 'SalesChannelID',\n",
       "       'DaysSinceCreated', 'Result', 'AnnualPremium_fixed', 'AgeGroup'],\n",
       "      dtype='object')"
      ]
     },
     "execution_count": 27,
     "metadata": {},
     "output_type": "execute_result"
    }
   ],
   "source": [
    "raw_df.columns"
   ]
  },
  {
   "cell_type": "code",
   "execution_count": 28,
   "id": "b8db1b91",
   "metadata": {
    "id": "b8db1b91"
   },
   "outputs": [],
   "source": [
    "X = raw_df[[\"Gender\", \"Age\", \"RegionID\", \"Switch\", \"VehicleAge\", \"PastAccident\", \"SalesChannelID\", \"DaysSinceCreated\", \"AnnualPremium_fixed\"]]\n",
    "y = raw_df[[\"Result\"]]"
   ]
  },
  {
   "cell_type": "code",
   "execution_count": 29,
   "id": "54c1cf0d",
   "metadata": {
    "id": "54c1cf0d"
   },
   "outputs": [],
   "source": [
    "X_train, X_test, y_train, y_test = train_test_split(X, y, test_size = 0.2, random_state = 40, stratify=y)"
   ]
  },
  {
   "cell_type": "code",
   "execution_count": 30,
   "id": "25f35066",
   "metadata": {
    "id": "25f35066"
   },
   "outputs": [],
   "source": [
    "# Creating list of numeric and categorical features that need transforming\n",
    "num_features = [\"Age\", \"DaysSinceCreated\",  \"AnnualPremium_fixed\"]\n",
    "cat_features = [\"Gender\", \"RegionID\", \"Switch\", \"VehicleAge\", \"PastAccident\", \"SalesChannelID\"]"
   ]
  },
  {
   "cell_type": "code",
   "execution_count": 31,
   "id": "b274d3b4",
   "metadata": {
    "id": "b274d3b4"
   },
   "outputs": [],
   "source": [
    "from sklearn.pipeline import Pipeline\n",
    "from sklearn.preprocessing import StandardScaler, OneHotEncoder, OrdinalEncoder\n",
    "from sklearn.experimental import enable_iterative_imputer\n",
    "from sklearn.impute import SimpleImputer, KNNImputer, IterativeImputer \n",
    "\n",
    "num_pipeline = Pipeline([\n",
    "     ('std_scaler', StandardScaler()),\n",
    "     ('knn_num_imputer', KNNImputer(n_neighbors = 10))\n",
    "    \n",
    "])\n",
    "\n",
    "\n",
    "cat_pipeline = Pipeline([\n",
    "    ('imputer', SimpleImputer(strategy='most_frequent')),\n",
    "    ('encoder', OneHotEncoder(handle_unknown = \"ignore\"))\n",
    "    #('knn_num_imputer', KNNImputer(n_neighbors = 10))\n",
    "\n",
    "])"
   ]
  },
  {
   "cell_type": "code",
   "execution_count": 32,
   "id": "fa20225e",
   "metadata": {
    "id": "fa20225e"
   },
   "outputs": [],
   "source": [
    "from sklearn.compose import ColumnTransformer\n",
    "\n",
    "\n",
    "full_pipeline = ColumnTransformer([\n",
    "        ('num', num_pipeline, num_features),\n",
    "        ('cat', cat_pipeline, cat_features)\n",
    "])\n",
    "\n",
    "\n",
    "X_train_prepared = full_pipeline.fit_transform(X_train)\n",
    "X_test_prepared =  full_pipeline.transform(X_test)"
   ]
  },
  {
   "cell_type": "markdown",
   "id": "89643e64",
   "metadata": {
    "id": "89643e64"
   },
   "source": [
    "#### Note: The code above takes a long time to run"
   ]
  },
  {
   "cell_type": "markdown",
   "id": "ce966eb2",
   "metadata": {
    "id": "ce966eb2"
   },
   "source": [
    "## Baseline 1 (imputed values)\n",
    "\n",
    "Setting a baseline on the test set so we can compare it with our final model. The test set is set aside until the very end. We will use cross validation on the training set to make design decisions. Another option is to split the training set again to have a validation set and use that one.\n",
    "\n",
    "Given the imbalanced dataset we need to use the F1 Score to judge the performance, not accuracy."
   ]
  },
  {
   "cell_type": "code",
   "execution_count": 33,
   "id": "080756d8",
   "metadata": {
    "id": "080756d8"
   },
   "outputs": [
    {
     "name": "stderr",
     "output_type": "stream",
     "text": [
      "/Users/gleb.khamin/opt/anaconda3/lib/python3.9/site-packages/sklearn/svm/_base.py:284: ConvergenceWarning: Solver terminated early (max_iter=3000).  Consider pre-processing your data with StandardScaler or MinMaxScaler.\n",
      "  warnings.warn(\n"
     ]
    }
   ],
   "source": [
    "#using SVM as baseline because Logistic Regression cant predict minority class at all (F1 score of 0)\n",
    "svc = SVC(max_iter=3000)\n",
    "svc.fit(X_train_prepared, y_train.values.ravel())\n",
    "\n",
    "y_pred = svc.predict(X_test_prepared)\n"
   ]
  },
  {
   "cell_type": "code",
   "execution_count": 34,
   "id": "48ab689d",
   "metadata": {
    "id": "48ab689d"
   },
   "outputs": [
    {
     "name": "stdout",
     "output_type": "stream",
     "text": [
      "              precision    recall  f1-score   support\n",
      "\n",
      "           0      0.897     0.836     0.865     53541\n",
      "           1      0.206     0.307     0.247      7437\n",
      "\n",
      "    accuracy                          0.772     60978\n",
      "   macro avg      0.551     0.571     0.556     60978\n",
      "weighted avg      0.813     0.772     0.790     60978\n",
      "\n"
     ]
    }
   ],
   "source": [
    "print(classification_report(y_test, y_pred, digits=3))"
   ]
  },
  {
   "cell_type": "markdown",
   "id": "637dfe7f",
   "metadata": {
    "id": "637dfe7f"
   },
   "source": [
    "Baseline results: not ideal - model really struggles with the minority class so most likely we will need to resample our dataset first, before proceeding with feature selection, model selection and hyperparameter tuning."
   ]
  },
  {
   "cell_type": "markdown",
   "id": "d0cb2917",
   "metadata": {
    "id": "d0cb2917"
   },
   "source": [
    "### Resampling"
   ]
  },
  {
   "cell_type": "code",
   "execution_count": 35,
   "id": "93db38e5",
   "metadata": {
    "id": "93db38e5"
   },
   "outputs": [],
   "source": [
    "from imblearn.under_sampling import RandomUnderSampler \n",
    "\n",
    "undersample = RandomUnderSampler(sampling_strategy='majority')"
   ]
  },
  {
   "cell_type": "code",
   "execution_count": 36,
   "id": "39722981",
   "metadata": {
    "id": "39722981"
   },
   "outputs": [],
   "source": [
    "X_under, y_under = undersample.fit_resample(X, y)"
   ]
  },
  {
   "cell_type": "code",
   "execution_count": 37,
   "id": "bf919a6e",
   "metadata": {
    "id": "bf919a6e"
   },
   "outputs": [],
   "source": [
    "X_train, X_test, y_train, y_test = train_test_split(X_under, y_under, test_size = 0.2, random_state = 40)"
   ]
  },
  {
   "cell_type": "code",
   "execution_count": 38,
   "id": "404f290d",
   "metadata": {
    "id": "404f290d"
   },
   "outputs": [],
   "source": [
    "X_train_prepared = full_pipeline.fit_transform(X_train)\n",
    "X_test_prepared =  full_pipeline.transform(X_test)"
   ]
  },
  {
   "cell_type": "markdown",
   "id": "83fc4d8f",
   "metadata": {
    "id": "83fc4d8f"
   },
   "source": [
    "## Baseline 2 (imputed values + undersampling)"
   ]
  },
  {
   "cell_type": "code",
   "execution_count": 39,
   "id": "bd365a2c",
   "metadata": {
    "id": "bd365a2c"
   },
   "outputs": [
    {
     "name": "stderr",
     "output_type": "stream",
     "text": [
      "/Users/gleb.khamin/opt/anaconda3/lib/python3.9/site-packages/sklearn/svm/_base.py:284: ConvergenceWarning: Solver terminated early (max_iter=3000).  Consider pre-processing your data with StandardScaler or MinMaxScaler.\n",
      "  warnings.warn(\n"
     ]
    },
    {
     "name": "stdout",
     "output_type": "stream",
     "text": [
      "              precision    recall  f1-score   support\n",
      "\n",
      "           0      0.687     0.625     0.654      7359\n",
      "           1      0.663     0.722     0.691      7516\n",
      "\n",
      "    accuracy                          0.674     14875\n",
      "   macro avg      0.675     0.673     0.673     14875\n",
      "weighted avg      0.675     0.674     0.673     14875\n",
      "\n"
     ]
    }
   ],
   "source": [
    "svc.fit(X_train_prepared, y_train.values.ravel())\n",
    "\n",
    "y_pred = svc.predict(X_test_prepared)\n",
    "print(classification_report(y_test, y_pred, digits=3))"
   ]
  },
  {
   "cell_type": "markdown",
   "id": "17d26afd",
   "metadata": {
    "id": "17d26afd"
   },
   "source": [
    "This is significantly better now - let's, out of curiosity, also try two other sampling methods. Note, the code will run for quite a while given we are generating more data."
   ]
  },
  {
   "cell_type": "code",
   "execution_count": 40,
   "id": "7ca85ce1",
   "metadata": {
    "id": "7ca85ce1"
   },
   "outputs": [],
   "source": [
    "from imblearn.over_sampling import RandomOverSampler \n",
    "oversample = RandomOverSampler(sampling_strategy='minority')\n",
    "\n",
    "X_over, y_over = oversample.fit_resample(X, y)\n"
   ]
  },
  {
   "cell_type": "code",
   "execution_count": 41,
   "id": "956b8904",
   "metadata": {
    "id": "956b8904"
   },
   "outputs": [],
   "source": [
    "# to avoud frying my computer I will only sample 100k\n",
    "X_over[\"Result\"] = y_over"
   ]
  },
  {
   "cell_type": "code",
   "execution_count": 42,
   "id": "681eb9e6",
   "metadata": {
    "id": "681eb9e6"
   },
   "outputs": [],
   "source": [
    "sample = X_over.sample(100000)"
   ]
  },
  {
   "cell_type": "code",
   "execution_count": 43,
   "id": "43d4909f",
   "metadata": {
    "id": "43d4909f"
   },
   "outputs": [],
   "source": [
    "y_over = sample.Result\n",
    "X_over = sample.drop(\"Result\", axis=1)"
   ]
  },
  {
   "cell_type": "code",
   "execution_count": 44,
   "id": "faca051c",
   "metadata": {
    "id": "faca051c"
   },
   "outputs": [],
   "source": [
    "X_train, X_test, y_train, y_test = train_test_split(X_over, y_over, test_size = 0.2, random_state = 40)\n",
    "\n",
    "X_train_prepared = full_pipeline.fit_transform(X_train)\n",
    "X_test_prepared =  full_pipeline.transform(X_test)"
   ]
  },
  {
   "cell_type": "markdown",
   "id": "2f2883a8",
   "metadata": {
    "id": "2f2883a8"
   },
   "source": [
    "## Baseline 3 (imputed values + oversampling)\n",
    "\n",
    "The results are very similar to understampling."
   ]
  },
  {
   "cell_type": "code",
   "execution_count": 45,
   "id": "79fc945e",
   "metadata": {
    "id": "79fc945e"
   },
   "outputs": [
    {
     "name": "stderr",
     "output_type": "stream",
     "text": [
      "/Users/gleb.khamin/opt/anaconda3/lib/python3.9/site-packages/sklearn/svm/_base.py:284: ConvergenceWarning: Solver terminated early (max_iter=3000).  Consider pre-processing your data with StandardScaler or MinMaxScaler.\n",
      "  warnings.warn(\n"
     ]
    },
    {
     "name": "stdout",
     "output_type": "stream",
     "text": [
      "              precision    recall  f1-score   support\n",
      "\n",
      "           0      0.655     0.607     0.630     10036\n",
      "           1      0.631     0.678     0.654      9964\n",
      "\n",
      "    accuracy                          0.643     20000\n",
      "   macro avg      0.643     0.643     0.642     20000\n",
      "weighted avg      0.643     0.643     0.642     20000\n",
      "\n"
     ]
    }
   ],
   "source": [
    "svc.fit(X_train_prepared, y_train.values.ravel())\n",
    "\n",
    "y_pred = svc.predict(X_test_prepared)\n",
    "print(classification_report(y_test, y_pred, digits=3))"
   ]
  },
  {
   "cell_type": "markdown",
   "id": "6d0f3829",
   "metadata": {
    "id": "6d0f3829"
   },
   "source": [
    "#### SMOTE\n",
    "\n",
    "SMOTE requires some preprocessing of the data because it does not like NAN and categorical data needs to be encoded."
   ]
  },
  {
   "cell_type": "code",
   "execution_count": 46,
   "id": "80dfdb17",
   "metadata": {
    "id": "80dfdb17"
   },
   "outputs": [],
   "source": [
    "from imblearn.over_sampling import SMOTE"
   ]
  },
  {
   "cell_type": "code",
   "execution_count": 47,
   "id": "cfb49a33",
   "metadata": {
    "id": "cfb49a33"
   },
   "outputs": [
    {
     "name": "stderr",
     "output_type": "stream",
     "text": [
      "/var/folders/sk/4xszcryd1ygcbjn1fj1jbj940000gn/T/ipykernel_54955/3531025657.py:4: SettingWithCopyWarning: \n",
      "A value is trying to be set on a copy of a slice from a DataFrame.\n",
      "Try using .loc[row_indexer,col_indexer] = value instead\n",
      "\n",
      "See the caveats in the documentation: https://pandas.pydata.org/pandas-docs/stable/user_guide/indexing.html#returning-a-view-versus-a-copy\n",
      "  X[\"Gender_en\"] = le.fit_transform(X[\"Gender\"])\n",
      "/var/folders/sk/4xszcryd1ygcbjn1fj1jbj940000gn/T/ipykernel_54955/3531025657.py:5: SettingWithCopyWarning: \n",
      "A value is trying to be set on a copy of a slice from a DataFrame.\n",
      "Try using .loc[row_indexer,col_indexer] = value instead\n",
      "\n",
      "See the caveats in the documentation: https://pandas.pydata.org/pandas-docs/stable/user_guide/indexing.html#returning-a-view-versus-a-copy\n",
      "  X[\"reg_en\"] = le.fit_transform(X[\"RegionID\"])\n",
      "/var/folders/sk/4xszcryd1ygcbjn1fj1jbj940000gn/T/ipykernel_54955/3531025657.py:6: SettingWithCopyWarning: \n",
      "A value is trying to be set on a copy of a slice from a DataFrame.\n",
      "Try using .loc[row_indexer,col_indexer] = value instead\n",
      "\n",
      "See the caveats in the documentation: https://pandas.pydata.org/pandas-docs/stable/user_guide/indexing.html#returning-a-view-versus-a-copy\n",
      "  X[\"switch_en\"] = le.fit_transform(X[\"Switch\"])\n",
      "/var/folders/sk/4xszcryd1ygcbjn1fj1jbj940000gn/T/ipykernel_54955/3531025657.py:7: SettingWithCopyWarning: \n",
      "A value is trying to be set on a copy of a slice from a DataFrame.\n",
      "Try using .loc[row_indexer,col_indexer] = value instead\n",
      "\n",
      "See the caveats in the documentation: https://pandas.pydata.org/pandas-docs/stable/user_guide/indexing.html#returning-a-view-versus-a-copy\n",
      "  X[\"vage_en\"] = le.fit_transform(X[\"VehicleAge\"])\n"
     ]
    }
   ],
   "source": [
    "#SMOTE expects encoded labels and doesnt accept NANs\n",
    "\n",
    "le = LabelEncoder()\n",
    "X[\"Gender_en\"] = le.fit_transform(X[\"Gender\"])\n",
    "X[\"reg_en\"] = le.fit_transform(X[\"RegionID\"])\n",
    "X[\"switch_en\"] = le.fit_transform(X[\"Switch\"])\n",
    "X[\"vage_en\"] = le.fit_transform(X[\"VehicleAge\"])\n",
    "X[\"acc_en\"] = le.fit_transform(X[\"PastAccident\"])\n",
    "X[\"sales_en\"] = le.fit_transform(X[\"SalesChannelID\"])"
   ]
  },
  {
   "cell_type": "code",
   "execution_count": 48,
   "id": "abe8fb34",
   "metadata": {
    "id": "abe8fb34"
   },
   "outputs": [],
   "source": [
    "X_en = X[[\"Gender_en\", \"reg_en\", \"switch_en\", \"vage_en\", \"acc_en\", \"sales_en\", \"Age\", \"AnnualPremium_fixed\", \"DaysSinceCreated\"]]\n",
    "X = X[[\"Gender\", \"Age\", \"RegionID\", \"Switch\", \"VehicleAge\" ,\"PastAccident\", \"SalesChannelID\" ,\"DaysSinceCreated\", \"AnnualPremium_fixed\"]]\n"
   ]
  },
  {
   "cell_type": "code",
   "execution_count": 49,
   "id": "0a91ffb2",
   "metadata": {
    "id": "0a91ffb2"
   },
   "outputs": [],
   "source": [
    "cat_features_SMOTE = [\"Gender_en\", \"reg_en\", \"switch_en\", \"vage_en\", \"acc_en\", \"sales_en\"]"
   ]
  },
  {
   "cell_type": "code",
   "execution_count": 50,
   "id": "ccd9fd77",
   "metadata": {
    "id": "ccd9fd77"
   },
   "outputs": [],
   "source": [
    "num_pipeline = Pipeline([\n",
    "     ('std_scaler', StandardScaler()),\n",
    "     ('knn_num_imputer', KNNImputer(n_neighbors = 10))\n",
    "    \n",
    "])\n",
    "\n",
    "\n",
    "cat_pipeline_SMOTE = Pipeline([\n",
    "    ('imputer', SimpleImputer(strategy='most_frequent')),\n",
    "    ('encoder', OrdinalEncoder(handle_unknown = \"use_encoded_value\",unknown_value=-1))\n",
    "    #('knn_num_imputer', KNNImputer(n_neighbors = 10))\n",
    "\n",
    "])"
   ]
  },
  {
   "cell_type": "code",
   "execution_count": 51,
   "id": "fd7978d5",
   "metadata": {
    "id": "fd7978d5"
   },
   "outputs": [],
   "source": [
    "full_pipeline_SMOTE = ColumnTransformer([\n",
    "        ('num', num_pipeline, num_features),\n",
    "        ('cat', cat_pipeline_SMOTE, cat_features_SMOTE)\n",
    "])\n"
   ]
  },
  {
   "cell_type": "code",
   "execution_count": 52,
   "id": "eaf9c665",
   "metadata": {
    "colab": {
     "background_save": true
    },
    "id": "eaf9c665"
   },
   "outputs": [],
   "source": [
    "X_en_prepared = full_pipeline_SMOTE.fit_transform(X_en)\n"
   ]
  },
  {
   "cell_type": "code",
   "execution_count": 53,
   "id": "53cb3808",
   "metadata": {
    "colab": {
     "background_save": true
    },
    "id": "53cb3808"
   },
   "outputs": [
    {
     "data": {
      "text/plain": [
       "304887"
      ]
     },
     "execution_count": 53,
     "metadata": {},
     "output_type": "execute_result"
    }
   ],
   "source": [
    "len(X_en_prepared)"
   ]
  },
  {
   "cell_type": "code",
   "execution_count": 54,
   "id": "2a2bda24",
   "metadata": {
    "colab": {
     "background_save": true
    },
    "id": "2a2bda24"
   },
   "outputs": [],
   "source": [
    "oversample = SMOTE()\n",
    "X_SMOTE, y_SMOTE = oversample.fit_resample(X_en_prepared, y)"
   ]
  },
  {
   "cell_type": "code",
   "execution_count": 55,
   "id": "00f85718",
   "metadata": {
    "colab": {
     "background_save": true
    },
    "id": "00f85718"
   },
   "outputs": [],
   "source": [
    "y_SMOTE_np = np.asarray(y_SMOTE.Result.tolist())"
   ]
  },
  {
   "cell_type": "code",
   "execution_count": 56,
   "id": "865e9cb5",
   "metadata": {
    "colab": {
     "background_save": true
    },
    "id": "865e9cb5"
   },
   "outputs": [],
   "source": [
    "idx = np.random.choice(np.arange(len(X_SMOTE)), 100000, replace=False)\n",
    "y_SMOTE = y_SMOTE_np[idx]\n",
    "X_SMOTE = X_SMOTE[idx]"
   ]
  },
  {
   "cell_type": "code",
   "execution_count": 57,
   "id": "789f8a1b",
   "metadata": {
    "colab": {
     "background_save": true
    },
    "id": "789f8a1b"
   },
   "outputs": [],
   "source": [
    "\n",
    "X_train, X_test, y_train, y_test = train_test_split(X_SMOTE, y_SMOTE, test_size = 0.2, random_state = 40)\n"
   ]
  },
  {
   "cell_type": "markdown",
   "id": "03aa09e8",
   "metadata": {
    "id": "03aa09e8"
   },
   "source": [
    "## Baseline 3 (imputed Data + SMOTE)\n",
    "\n",
    "SMOTE for some reason worked really bad so we will continue with undersampling given its the least amount of data."
   ]
  },
  {
   "cell_type": "code",
   "execution_count": 58,
   "id": "878d2396",
   "metadata": {
    "colab": {
     "background_save": true
    },
    "id": "878d2396"
   },
   "outputs": [
    {
     "name": "stderr",
     "output_type": "stream",
     "text": [
      "/Users/gleb.khamin/opt/anaconda3/lib/python3.9/site-packages/sklearn/svm/_base.py:284: ConvergenceWarning: Solver terminated early (max_iter=3000).  Consider pre-processing your data with StandardScaler or MinMaxScaler.\n",
      "  warnings.warn(\n"
     ]
    }
   ],
   "source": [
    "svc.fit(X_train, y_train)\n",
    "\n",
    "y_pred = svc.predict(X_test)\n"
   ]
  },
  {
   "cell_type": "code",
   "execution_count": 59,
   "id": "0f1ee465",
   "metadata": {
    "colab": {
     "background_save": true
    },
    "id": "0f1ee465"
   },
   "outputs": [
    {
     "name": "stdout",
     "output_type": "stream",
     "text": [
      "              precision    recall  f1-score   support\n",
      "\n",
      "           0      0.560     0.748     0.641     10012\n",
      "           1      0.619     0.410     0.494      9988\n",
      "\n",
      "    accuracy                          0.580     20000\n",
      "   macro avg      0.590     0.579     0.567     20000\n",
      "weighted avg      0.590     0.580     0.567     20000\n",
      "\n"
     ]
    }
   ],
   "source": [
    "print(classification_report(y_test, y_pred, digits=3))"
   ]
  },
  {
   "cell_type": "markdown",
   "id": "5d3360b4",
   "metadata": {
    "id": "5d3360b4"
   },
   "source": [
    "## Baseline 4 (delete all NANs and work with the remaining 15% of data + undersample)\n",
    "\n",
    "Given that we impute a lot of data which could be wrong, let's only keep those observations where we have all data"
   ]
  },
  {
   "cell_type": "code",
   "execution_count": 60,
   "id": "a8d57823",
   "metadata": {
    "colab": {
     "background_save": true
    },
    "id": "a8d57823"
   },
   "outputs": [],
   "source": [
    "raw_df_na = raw_df.dropna()"
   ]
  },
  {
   "cell_type": "code",
   "execution_count": 61,
   "id": "b0f2efdc",
   "metadata": {
    "colab": {
     "background_save": true
    },
    "id": "b0f2efdc"
   },
   "outputs": [
    {
     "data": {
      "text/plain": [
       "44377"
      ]
     },
     "execution_count": 61,
     "metadata": {},
     "output_type": "execute_result"
    }
   ],
   "source": [
    "len(raw_df_na)"
   ]
  },
  {
   "cell_type": "code",
   "execution_count": 62,
   "id": "0805f9d5",
   "metadata": {
    "colab": {
     "background_save": true
    },
    "id": "0805f9d5"
   },
   "outputs": [
    {
     "data": {
      "text/plain": [
       "0    38935\n",
       "1     5442\n",
       "Name: Result, dtype: int64"
      ]
     },
     "execution_count": 62,
     "metadata": {},
     "output_type": "execute_result"
    }
   ],
   "source": [
    "raw_df_na.Result.value_counts()"
   ]
  },
  {
   "cell_type": "code",
   "execution_count": 63,
   "id": "3ea49c8a",
   "metadata": {
    "colab": {
     "background_save": true
    },
    "id": "3ea49c8a"
   },
   "outputs": [],
   "source": [
    "X_na = raw_df_na[[\"Gender\", \"Age\", \"RegionID\", \"Switch\", \"VehicleAge\", \"PastAccident\", \"SalesChannelID\", \"DaysSinceCreated\", \"AnnualPremium_fixed\"]]\n",
    "y_na = raw_df_na[[\"Result\"]]"
   ]
  },
  {
   "cell_type": "code",
   "execution_count": 64,
   "id": "9a8afcd6",
   "metadata": {
    "colab": {
     "background_save": true
    },
    "id": "9a8afcd6"
   },
   "outputs": [
    {
     "name": "stderr",
     "output_type": "stream",
     "text": [
      "/Users/gleb.khamin/opt/anaconda3/lib/python3.9/site-packages/sklearn/svm/_base.py:284: ConvergenceWarning: Solver terminated early (max_iter=3000).  Consider pre-processing your data with StandardScaler or MinMaxScaler.\n",
      "  warnings.warn(\n"
     ]
    },
    {
     "name": "stdout",
     "output_type": "stream",
     "text": [
      "              precision    recall  f1-score   support\n",
      "\n",
      "           0      0.934     0.636     0.757      1072\n",
      "           1      0.730     0.957     0.828      1105\n",
      "\n",
      "    accuracy                          0.799      2177\n",
      "   macro avg      0.832     0.796     0.793      2177\n",
      "weighted avg      0.831     0.799     0.793      2177\n",
      "\n"
     ]
    }
   ],
   "source": [
    "X_under_na, y_under_na = undersample.fit_resample(X_na, y_na)\n",
    "X_train, X_test, y_train, y_test = train_test_split(X_under_na, y_under_na, test_size = 0.2, random_state = 40)\n",
    "X_train_prepared = full_pipeline.fit_transform(X_train)\n",
    "X_test_prepared =  full_pipeline.transform(X_test)\n",
    "\n",
    "svc.fit(X_train_prepared, y_train.values.ravel())\n",
    "\n",
    "y_pred = svc.predict(X_test_prepared)\n",
    "print(classification_report(y_test, y_pred, digits=3))"
   ]
  },
  {
   "cell_type": "markdown",
   "id": "c1a3d554",
   "metadata": {
    "id": "c1a3d554"
   },
   "source": [
    "### Great! \n",
    "\n",
    "This is significantly better. Even though we have lost so much data. We will see later WHY that is the case. For now I will proceed with approach (1) imputing and undersampling, but later we will go back to this approach"
   ]
  },
  {
   "cell_type": "code",
   "execution_count": 65,
   "id": "10de81e7",
   "metadata": {
    "colab": {
     "background_save": true
    },
    "id": "10de81e7"
   },
   "outputs": [],
   "source": [
    "\n",
    "\n",
    "X_under, y_under = undersample.fit_resample(X, y)\n",
    "X_train, X_test, y_train, y_test = train_test_split(X_under, y_under, test_size = 0.2, random_state = 40)"
   ]
  },
  {
   "cell_type": "markdown",
   "id": "23caa990",
   "metadata": {
    "id": "23caa990"
   },
   "source": [
    "## Cross validation\n",
    "\n",
    "Let's see how the SVM performs on the training set using cross validation - we will use this method now to make all design decisions."
   ]
  },
  {
   "cell_type": "code",
   "execution_count": 66,
   "id": "020a46e0",
   "metadata": {
    "colab": {
     "background_save": true
    },
    "id": "020a46e0"
   },
   "outputs": [],
   "source": [
    "from sklearn.model_selection import cross_val_score\n",
    "from sklearn.pipeline import make_pipeline"
   ]
  },
  {
   "cell_type": "code",
   "execution_count": 67,
   "id": "7d20315d",
   "metadata": {
    "colab": {
     "background_save": true
    },
    "id": "7d20315d"
   },
   "outputs": [],
   "source": [
    "pipeline = make_pipeline(full_pipeline,svc)"
   ]
  },
  {
   "cell_type": "code",
   "execution_count": 68,
   "id": "8a8717f8",
   "metadata": {
    "colab": {
     "background_save": true
    },
    "id": "8a8717f8"
   },
   "outputs": [
    {
     "name": "stderr",
     "output_type": "stream",
     "text": [
      "/Users/gleb.khamin/opt/anaconda3/lib/python3.9/site-packages/sklearn/svm/_base.py:284: ConvergenceWarning: Solver terminated early (max_iter=3000).  Consider pre-processing your data with StandardScaler or MinMaxScaler.\n",
      "  warnings.warn(\n",
      "/Users/gleb.khamin/opt/anaconda3/lib/python3.9/site-packages/sklearn/svm/_base.py:284: ConvergenceWarning: Solver terminated early (max_iter=3000).  Consider pre-processing your data with StandardScaler or MinMaxScaler.\n",
      "  warnings.warn(\n",
      "/Users/gleb.khamin/opt/anaconda3/lib/python3.9/site-packages/sklearn/svm/_base.py:284: ConvergenceWarning: Solver terminated early (max_iter=3000).  Consider pre-processing your data with StandardScaler or MinMaxScaler.\n",
      "  warnings.warn(\n",
      "/Users/gleb.khamin/opt/anaconda3/lib/python3.9/site-packages/sklearn/svm/_base.py:284: ConvergenceWarning: Solver terminated early (max_iter=3000).  Consider pre-processing your data with StandardScaler or MinMaxScaler.\n",
      "  warnings.warn(\n",
      "/Users/gleb.khamin/opt/anaconda3/lib/python3.9/site-packages/sklearn/svm/_base.py:284: ConvergenceWarning: Solver terminated early (max_iter=3000).  Consider pre-processing your data with StandardScaler or MinMaxScaler.\n",
      "  warnings.warn(\n"
     ]
    }
   ],
   "source": [
    "scores = cross_val_score(pipeline, X_train, y_train.values.ravel(), cv=5, scoring=\"f1_weighted\")"
   ]
  },
  {
   "cell_type": "code",
   "execution_count": 69,
   "id": "8cd85279",
   "metadata": {
    "colab": {
     "background_save": true
    },
    "id": "8cd85279"
   },
   "outputs": [
    {
     "data": {
      "text/plain": [
       "0.6401101792079882"
      ]
     },
     "execution_count": 69,
     "metadata": {},
     "output_type": "execute_result"
    }
   ],
   "source": [
    "scores.mean()"
   ]
  },
  {
   "cell_type": "markdown",
   "id": "f5ad9b68",
   "metadata": {
    "id": "f5ad9b68"
   },
   "source": [
    "## Model Selection\n",
    "\n",
    "Before we drop any features let's test a few models. We will use\n",
    "- KNN\n",
    "- SVC\n",
    "- Decision Tree\n",
    "- MLP\n",
    "- Logistic Regression\n",
    "\n",
    "Then we will proceed with the top 3 performing models based on scikit learns default parameters\n",
    "\n",
    "\n",
    "If we had more time, I would use XGBoost (due to its power potential), however I am limited on time.\n"
   ]
  },
  {
   "cell_type": "code",
   "execution_count": 70,
   "id": "205c532e",
   "metadata": {
    "colab": {
     "background_save": true
    },
    "id": "205c532e"
   },
   "outputs": [],
   "source": [
    "\n",
    "from sklearn.ensemble import RandomForestClassifier, AdaBoostClassifier"
   ]
  },
  {
   "cell_type": "code",
   "execution_count": 71,
   "id": "bb047c8b",
   "metadata": {
    "colab": {
     "background_save": true
    },
    "id": "bb047c8b"
   },
   "outputs": [],
   "source": [
    "#for now using default parameters\n",
    "knn = KNeighborsClassifier()\n",
    "dt = tree.DecisionTreeClassifier(max_depth=10) #to avoid overfitting\n",
    "mlp = MLPClassifier(early_stopping=True, hidden_layer_sizes=(10,1))\n",
    "lr = LogisticRegression(max_iter=1000)"
   ]
  },
  {
   "cell_type": "code",
   "execution_count": 72,
   "id": "147ba24c",
   "metadata": {
    "colab": {
     "background_save": true
    },
    "id": "147ba24c"
   },
   "outputs": [],
   "source": [
    "rf = RandomForestClassifier()\n",
    "ab = AdaBoostClassifier()"
   ]
  },
  {
   "cell_type": "code",
   "execution_count": 73,
   "id": "58e52277",
   "metadata": {
    "colab": {
     "background_save": true
    },
    "id": "58e52277"
   },
   "outputs": [
    {
     "data": {
      "text/plain": [
       "0.716613315497318"
      ]
     },
     "execution_count": 73,
     "metadata": {},
     "output_type": "execute_result"
    }
   ],
   "source": [
    "#knn\n",
    "pipeline = make_pipeline(full_pipeline,knn)\n",
    "scores = cross_val_score(pipeline, X_train, y_train.values.ravel(), cv=5, scoring=\"f1_weighted\")\n",
    "scores.mean()"
   ]
  },
  {
   "cell_type": "code",
   "execution_count": 74,
   "id": "45ebb722",
   "metadata": {
    "colab": {
     "background_save": true
    },
    "id": "45ebb722"
   },
   "outputs": [
    {
     "data": {
      "text/plain": [
       "0.7532287383794476"
      ]
     },
     "execution_count": 74,
     "metadata": {},
     "output_type": "execute_result"
    }
   ],
   "source": [
    "#tree\n",
    "pipeline = make_pipeline(full_pipeline,dt)\n",
    "scores = cross_val_score(pipeline, X_train, y_train.values.ravel(), cv=5, scoring=\"f1_weighted\")\n",
    "scores.mean()"
   ]
  },
  {
   "cell_type": "code",
   "execution_count": 75,
   "id": "417adf8e",
   "metadata": {
    "colab": {
     "background_save": true
    },
    "id": "417adf8e"
   },
   "outputs": [
    {
     "data": {
      "text/plain": [
       "0.6710068726335662"
      ]
     },
     "execution_count": 75,
     "metadata": {},
     "output_type": "execute_result"
    }
   ],
   "source": [
    "#mlp\n",
    "pipeline = make_pipeline(full_pipeline,mlp)\n",
    "scores = cross_val_score(pipeline, X_train, y_train.values.ravel(), cv=5, scoring=\"f1_weighted\")\n",
    "scores.mean()"
   ]
  },
  {
   "cell_type": "code",
   "execution_count": 76,
   "id": "40781eb4",
   "metadata": {
    "colab": {
     "background_save": true
    },
    "id": "40781eb4",
    "scrolled": true
   },
   "outputs": [
    {
     "data": {
      "text/plain": [
       "0.7559791620258434"
      ]
     },
     "execution_count": 76,
     "metadata": {},
     "output_type": "execute_result"
    }
   ],
   "source": [
    "#lr\n",
    "pipeline = make_pipeline(full_pipeline,lr)\n",
    "scores = cross_val_score(pipeline, X_train, y_train.values.ravel(), cv=5, scoring=\"f1_weighted\")\n",
    "scores.mean()"
   ]
  },
  {
   "cell_type": "code",
   "execution_count": null,
   "id": "5fcfa84d",
   "metadata": {
    "id": "5fcfa84d"
   },
   "outputs": [],
   "source": [
    "#rf\n",
    "pipeline = make_pipeline(full_pipeline,rf)\n",
    "scores = cross_val_score(pipeline, X_train, y_train.values.ravel(), cv=5, scoring=\"f1_weighted\")\n",
    "scores.mean()"
   ]
  },
  {
   "cell_type": "code",
   "execution_count": null,
   "id": "427df205",
   "metadata": {
    "id": "427df205"
   },
   "outputs": [],
   "source": [
    "#ab\n",
    "pipeline = make_pipeline(full_pipeline,ab)\n",
    "scores = cross_val_score(pipeline, X_train, y_train.values.ravel(), cv=5, scoring=\"f1_weighted\")\n",
    "scores.mean()"
   ]
  },
  {
   "cell_type": "markdown",
   "id": "925f9140",
   "metadata": {
    "id": "925f9140"
   },
   "source": [
    "Ok, we can see that all models perform better than our SVC baseline but that most of the models show very similar performance.\n",
    "\n",
    "To cover several different models we will proceed with\n",
    "- linear method (logistic regression)\n",
    "- tree based method (decision tree)\n",
    "- ensemble method (adaboost - which is interesting to see whether it will be better than the simple tree based method given the base estimator is a decitiontree classifier with an initialised max depth of 1)"
   ]
  },
  {
   "cell_type": "markdown",
   "id": "51179327",
   "metadata": {
    "id": "51179327"
   },
   "source": [
    "## Feature Selection\n",
    "\n",
    "https://scikit-learn.org/stable/modules/feature_selection.html\n",
    "\n",
    "There are several ways of doing this. Using statistical tests or ML\n",
    "\n",
    "We will do hybrid approach  -  delete those we earlier identified as most likely useless. see how model performs. Then, on the remaining ones we can check out some of the automated methods. But given we dont have that many features we can do it manually first"
   ]
  },
  {
   "cell_type": "code",
   "execution_count": null,
   "id": "c3d37151",
   "metadata": {
    "id": "c3d37151"
   },
   "outputs": [],
   "source": [
    "X_train"
   ]
  },
  {
   "cell_type": "code",
   "execution_count": null,
   "id": "89362d37",
   "metadata": {
    "id": "89362d37"
   },
   "outputs": [],
   "source": [
    "# lets get rid of Gender given we saw that most likely it doesnt carry any value\n",
    "# lets play around with region and saleschannel given the many classes which makes it hard to see it on the plots\n",
    "\n",
    "\n",
    "#lets get rid of days since created given mean exactly the same in both groups\n",
    "# lets play around with annual premium given mean also same in both groups\n",
    "\n",
    "X_train_feat1 = X_train[[\"SalesChannelID\",\"Age\", \"VehicleAge\", \"Switch\", \"PastAccident\"]]"
   ]
  },
  {
   "cell_type": "code",
   "execution_count": null,
   "id": "f6261aaf",
   "metadata": {
    "id": "f6261aaf"
   },
   "outputs": [],
   "source": [
    "full_pipeline_feat1 = ColumnTransformer([\n",
    "        ('num', num_pipeline, [\"Age\"]),\n",
    "        ('cat', cat_pipeline, [\"SalesChannelID\", \"Switch\", \"VehicleAge\",\"PastAccident\"])\n",
    "])\n"
   ]
  },
  {
   "cell_type": "code",
   "execution_count": null,
   "id": "69dba407",
   "metadata": {
    "id": "69dba407"
   },
   "outputs": [],
   "source": [
    "pipeline_feat1 = make_pipeline(full_pipeline_feat1,lr)\n",
    "scores = cross_val_score(pipeline_feat1, X_train_feat1, y_train.values.ravel(), cv=5, scoring=\"f1_weighted\")\n",
    "scores.mean()"
   ]
  },
  {
   "cell_type": "markdown",
   "id": "bcbfbf89",
   "metadata": {
    "id": "bcbfbf89"
   },
   "source": [
    "verifying features also work with the other two classifiers"
   ]
  },
  {
   "cell_type": "code",
   "execution_count": null,
   "id": "abff301e",
   "metadata": {
    "id": "abff301e"
   },
   "outputs": [],
   "source": [
    "#decision tree\n",
    "pipeline_feat1 = make_pipeline(full_pipeline_feat1,dt)\n",
    "scores = cross_val_score(pipeline_feat1, X_train_feat1, y_train.values.ravel(), cv=5, scoring=\"f1_weighted\")\n",
    "scores.mean()"
   ]
  },
  {
   "cell_type": "code",
   "execution_count": null,
   "id": "2d81bc90",
   "metadata": {
    "id": "2d81bc90"
   },
   "outputs": [],
   "source": [
    "#adaboost\n",
    "pipeline_feat1 = make_pipeline(full_pipeline_feat1,ab)\n",
    "scores = cross_val_score(pipeline_feat1, X_train_feat1, y_train.values.ravel(), cv=5, scoring=\"f1_weighted\")\n",
    "scores.mean()"
   ]
  },
  {
   "cell_type": "markdown",
   "id": "8b0a978c",
   "metadata": {
    "id": "8b0a978c"
   },
   "source": [
    "### Observations using logistic regression\n",
    "- Gender: no difference -> F1 score remains at 0.755 as we predicted\n",
    "- Region: no differen -> F1 score remains at 0.755 \n",
    "- Saleschannel: adds value! deleting it causes a drop of 0.025 to 0.73\n",
    "- days since created: no difference -> F1 score remains at 0.755 \n",
    "- annual premium:  no difference -> F1 score remains at 0.755 \n",
    "\n",
    "My assumption is now that all the other features are useful but this can easily be tested by deleting the columns from the data and analyse performance\n",
    "\n",
    "- Age: Interestingly does not add much value - F1 score drops to only 0.753 which is surprising given that younger people (20-30 year old) are much less interested. But we will keep the feature given the slight reduction in performance. However, given we deleted all numerical features, we could consider changing the standardisation method and just scale\n",
    "- Vehicle Age:  Interestingly also does not add much value - F1 score drops to only 0.75. But we will keep the feature given the slight reduction in performance. \n",
    "\n",
    "\n",
    "- Switch: adds value! deleting it causes a drop of 0.025 to 0.73\n",
    "- Past Accident: adds value! deleting it causes a drop of 0.026 to 0.729\n",
    "\n",
    "\n",
    "Only keeping best features: SalesChannel, Switch & Past Accident: 0.753\n",
    "With Age and Vehicle Age: 0.755"
   ]
  },
  {
   "cell_type": "markdown",
   "id": "88c81582",
   "metadata": {
    "id": "88c81582"
   },
   "source": [
    "## Hyperparameter tuning of 3 chosen models"
   ]
  },
  {
   "cell_type": "code",
   "execution_count": null,
   "id": "975f444a",
   "metadata": {
    "id": "975f444a"
   },
   "outputs": [],
   "source": [
    "X_tr = full_pipeline_feat1.fit_transform(X_train_feat1)"
   ]
  },
  {
   "cell_type": "code",
   "execution_count": null,
   "id": "e84a50fc",
   "metadata": {
    "id": "e84a50fc",
    "scrolled": true
   },
   "outputs": [],
   "source": [
    "from sklearn.model_selection import GridSearchCV\n",
    "\n",
    "\n",
    "#LR\n",
    "parameters = {'C': np.linspace(0.1, 2, 10),\"solver\":[\"newton-cg\", \"lbfgs\", \"sag\", \"liblinear\", \"saga\"]}\n",
    "grid_search = GridSearchCV(LogisticRegression(max_iter=1000), parameters)\n",
    "grid_search.fit(X_tr, y_train.values.ravel())\n",
    "\n",
    "print('best parameters: ', grid_search.best_params_)\n",
    "print('best scores: ', grid_search.best_score_)"
   ]
  },
  {
   "cell_type": "markdown",
   "id": "02c091e7",
   "metadata": {
    "id": "02c091e7"
   },
   "source": [
    "It is not surprising it suggests a strong regularisation given the data most likely doesnt reflect the real world given how much data was imputed and hence might be wrong."
   ]
  },
  {
   "cell_type": "code",
   "execution_count": null,
   "id": "f7d126bf",
   "metadata": {
    "id": "f7d126bf",
    "scrolled": true
   },
   "outputs": [],
   "source": [
    "pipeline_feat1 = make_pipeline(full_pipeline_feat1,LogisticRegression(max_iter=3000,C=0.1, solver=\"newton-cg\"))\n",
    "scores = cross_val_score(pipeline_feat1, X_train_feat1, y_train.values.ravel(), cv=5, scoring=\"f1_weighted\")\n",
    "scores.mean()"
   ]
  },
  {
   "cell_type": "markdown",
   "id": "c8605d9a",
   "metadata": {
    "id": "c8605d9a"
   },
   "source": [
    "But when using these parameters the results do not really improve and remain at the previous 0.755"
   ]
  },
  {
   "cell_type": "code",
   "execution_count": null,
   "id": "82da7b8a",
   "metadata": {
    "id": "82da7b8a"
   },
   "outputs": [],
   "source": [
    "#dt\n",
    "parameters = {'max_depth': [5,10,15,20,25],\"criterion\":[\"gini\", \"entropy\", \"log_loss\"]}\n",
    "grid_search = GridSearchCV(tree.DecisionTreeClassifier(), parameters)\n",
    "grid_search.fit(X_tr, y_train.values.ravel())\n",
    "\n",
    "print('best parameters: ', grid_search.best_params_)\n",
    "print('best scores: ', grid_search.best_score_)"
   ]
  },
  {
   "cell_type": "code",
   "execution_count": null,
   "id": "dcb8c450",
   "metadata": {
    "id": "dcb8c450"
   },
   "outputs": [],
   "source": [
    "pipeline_feat1 = make_pipeline(full_pipeline_feat1,tree.DecisionTreeClassifier(criterion=\"entropy\", max_depth=10))\n",
    "scores = cross_val_score(pipeline_feat1, X_train_feat1, y_train.values.ravel(), cv=5, scoring=\"f1_weighted\")\n",
    "scores.mean()"
   ]
  },
  {
   "cell_type": "markdown",
   "id": "1d03e138",
   "metadata": {
    "id": "1d03e138"
   },
   "source": [
    "There is no real difference between Gini and entropy."
   ]
  },
  {
   "cell_type": "code",
   "execution_count": null,
   "id": "704d0ba3",
   "metadata": {
    "id": "704d0ba3"
   },
   "outputs": [],
   "source": [
    "#AB\n",
    "\n",
    "parameters = {'n_estimators': [50, 75,100,125,150],\"algorithm\":[\"SAMME\",\"SAMME.R\"]}\n",
    "grid_search = GridSearchCV(AdaBoostClassifier(), parameters)\n",
    "grid_search.fit(X_tr, y_train.values.ravel())\n",
    "\n",
    "print('best parameters: ', grid_search.best_params_)\n",
    "print('best scores: ', grid_search.best_score_)"
   ]
  },
  {
   "cell_type": "code",
   "execution_count": null,
   "id": "2df60005",
   "metadata": {
    "id": "2df60005"
   },
   "outputs": [],
   "source": [
    "pipeline_feat1 = make_pipeline(full_pipeline_feat1,AdaBoostClassifier(n_estimators=150))\n",
    "scores = cross_val_score(pipeline_feat1, X_train_feat1, y_train.values.ravel(), cv=5, scoring=\"f1_weighted\")\n",
    "scores.mean()"
   ]
  },
  {
   "cell_type": "markdown",
   "id": "efc18b20",
   "metadata": {
    "id": "efc18b20"
   },
   "source": [
    "## Test time"
   ]
  },
  {
   "cell_type": "code",
   "execution_count": null,
   "id": "5f763c05",
   "metadata": {
    "id": "5f763c05"
   },
   "outputs": [],
   "source": [
    "X_test_feat1 = X_test[[\"SalesChannelID\",\"Age\", \"VehicleAge\", \"Switch\", \"PastAccident\"]]"
   ]
  },
  {
   "cell_type": "code",
   "execution_count": null,
   "id": "79a78623",
   "metadata": {
    "id": "79a78623"
   },
   "outputs": [],
   "source": [
    "lr = LogisticRegression(max_iter=3000,C=0.1, solver=\"newton-cg\")\n",
    "X_train_prepared = full_pipeline_feat1.fit_transform(X_train_feat1)\n",
    "X_test_prepared =  full_pipeline_feat1.transform(X_test_feat1)\n",
    "lr.fit(X_train_prepared, y_train.values.ravel())\n",
    "\n",
    "y_pred = lr.predict(X_test_prepared)\n",
    "print(classification_report(y_test, y_pred, digits=3))"
   ]
  },
  {
   "cell_type": "code",
   "execution_count": null,
   "id": "de889c55",
   "metadata": {
    "id": "de889c55"
   },
   "outputs": [],
   "source": [
    "lr = AdaBoostClassifier(n_estimators=150)\n",
    "X_train_prepared = full_pipeline_feat1.fit_transform(X_train_feat1)\n",
    "X_test_prepared =  full_pipeline_feat1.transform(X_test_feat1)\n",
    "lr.fit(X_train_prepared, y_train.values.ravel())\n",
    "\n",
    "y_pred = lr.predict(X_test_prepared)\n",
    "print(classification_report(y_test, y_pred, digits=3))"
   ]
  },
  {
   "cell_type": "code",
   "execution_count": null,
   "id": "50a44944",
   "metadata": {
    "id": "50a44944"
   },
   "outputs": [],
   "source": [
    "lr = tree.DecisionTreeClassifier(criterion=\"entropy\", max_depth=10)\n",
    "X_train_prepared = full_pipeline_feat1.fit_transform(X_train_feat1)\n",
    "X_test_prepared =  full_pipeline_feat1.transform(X_test_feat1)\n",
    "lr.fit(X_train_prepared, y_train.values.ravel())\n",
    "\n",
    "y_pred = lr.predict(X_test_prepared)\n",
    "print(classification_report(y_test, y_pred, digits=3))"
   ]
  },
  {
   "cell_type": "markdown",
   "id": "c22da1af",
   "metadata": {
    "id": "c22da1af"
   },
   "source": [
    "## Preliminary result\n",
    "\n",
    "We got similar performance on our test set as during cross validation (around 0.755 F1) with Adaboost performing slightly better than the rest. However, we saw earlier that by keeping only those observations where we have ALL data, we can achieve higher performance. This is not surprising given 2 of the 3 most valuable feature are Switch and Past Accident, where almost half of the data is missing. Now that we know wich 5 features we need to build our model, let's select only those columns and drop the NAN. this way we should retain more data.\n",
    "\n",
    "We will only use Adaboost given it performed the best and tune hyperparameters for the new dataset.\n"
   ]
  },
  {
   "cell_type": "code",
   "execution_count": null,
   "id": "e6583a12",
   "metadata": {
    "id": "e6583a12"
   },
   "outputs": [],
   "source": [
    "X"
   ]
  },
  {
   "cell_type": "code",
   "execution_count": null,
   "id": "857da43d",
   "metadata": {
    "id": "857da43d"
   },
   "outputs": [],
   "source": [
    "X = X[[\"SalesChannelID\",\"Age\", \"VehicleAge\", \"Switch\", \"PastAccident\"]]"
   ]
  },
  {
   "cell_type": "code",
   "execution_count": null,
   "id": "5e870e18",
   "metadata": {
    "id": "5e870e18",
    "scrolled": false
   },
   "outputs": [],
   "source": [
    "X"
   ]
  },
  {
   "cell_type": "code",
   "execution_count": null,
   "id": "b627edc0",
   "metadata": {
    "id": "b627edc0"
   },
   "outputs": [],
   "source": [
    "print('Number of rows with nulls: {}'.format(X.shape[0] - X.dropna().shape[0]))\n",
    "print('% of data lost if all null rows were dropped: {:2.2%}'.format(1 - (X.dropna().shape[0] / X.shape[0])))"
   ]
  },
  {
   "cell_type": "code",
   "execution_count": null,
   "id": "885e3c65",
   "metadata": {
    "id": "885e3c65"
   },
   "outputs": [],
   "source": [
    "X[\"Result\"] = y"
   ]
  },
  {
   "cell_type": "code",
   "execution_count": null,
   "id": "de9a24b3",
   "metadata": {
    "id": "de9a24b3"
   },
   "outputs": [],
   "source": [
    "X.dropna(inplace=True)"
   ]
  },
  {
   "cell_type": "code",
   "execution_count": null,
   "id": "35373cbb",
   "metadata": {
    "id": "35373cbb"
   },
   "outputs": [],
   "source": [
    "X_new = X[[\"SalesChannelID\",\"Age\", \"VehicleAge\", \"Switch\", \"PastAccident\"]]\n",
    "y_new = X[[\"Result\"]]"
   ]
  },
  {
   "cell_type": "code",
   "execution_count": null,
   "id": "417b7cb5",
   "metadata": {
    "id": "417b7cb5"
   },
   "outputs": [],
   "source": [
    "X.Result.value_counts()"
   ]
  },
  {
   "cell_type": "code",
   "execution_count": null,
   "id": "ed16740a",
   "metadata": {
    "id": "ed16740a"
   },
   "outputs": [],
   "source": [
    "\n",
    "X_under, y_under = undersample.fit_resample(X_new, y_new)\n",
    "X_train, X_test, y_train, y_test = train_test_split(X_under, y_under, test_size = 0.15, random_state = 40)"
   ]
  },
  {
   "cell_type": "code",
   "execution_count": null,
   "id": "711bc44e",
   "metadata": {
    "id": "711bc44e"
   },
   "outputs": [],
   "source": [
    "ab =AdaBoostClassifier()\n",
    "pipeline = make_pipeline(full_pipeline_feat1,ab)\n",
    "scores = cross_val_score(pipeline, X_train, y_train.values.ravel(), cv=5, scoring=\"f1_weighted\")\n",
    "scores.mean()"
   ]
  },
  {
   "cell_type": "code",
   "execution_count": null,
   "id": "30294bab",
   "metadata": {
    "id": "30294bab"
   },
   "outputs": [],
   "source": [
    "X_tr = full_pipeline_feat1.fit_transform(X_train)\n",
    "\n",
    "parameters = {'n_estimators': [50, 75,100,125,150],\"algorithm\":[\"SAMME\",\"SAMME.R\"]}\n",
    "grid_search = GridSearchCV(AdaBoostClassifier(), parameters)\n",
    "grid_search.fit(X_tr, y_train.values.ravel())\n",
    "\n",
    "print('best parameters: ', grid_search.best_params_)\n",
    "print('best scores: ', grid_search.best_score_)"
   ]
  },
  {
   "cell_type": "code",
   "execution_count": null,
   "id": "59f3bf23",
   "metadata": {
    "id": "59f3bf23"
   },
   "outputs": [],
   "source": [
    "ab =AdaBoostClassifier(n_estimators=100, algorithm=\"SAMME\")\n",
    "pipeline = make_pipeline(full_pipeline_feat1,ab)\n",
    "scores = cross_val_score(pipeline, X_train, y_train.values.ravel(), cv=5, scoring=\"f1_weighted\")\n",
    "scores.mean()"
   ]
  },
  {
   "cell_type": "code",
   "execution_count": null,
   "id": "5c9b2c3e",
   "metadata": {
    "id": "5c9b2c3e",
    "scrolled": true
   },
   "outputs": [],
   "source": [
    "X_train_prepared = full_pipeline_feat1.fit_transform(X_train)\n",
    "X_test_prepared =  full_pipeline_feat1.transform(X_test)\n",
    "ab.fit(X_train_prepared, y_train.values.ravel())\n",
    "\n",
    "y_pred = ab.predict(X_test_prepared)\n",
    "print(classification_report(y_test, y_pred, digits=3))"
   ]
  },
  {
   "cell_type": "code",
   "execution_count": null,
   "id": "a6db9997",
   "metadata": {
    "id": "a6db9997"
   },
   "outputs": [],
   "source": [
    "just_for_fun =  full_pipeline_feat1.transform(X_new)"
   ]
  },
  {
   "cell_type": "markdown",
   "id": "1e8d2c09",
   "metadata": {
    "id": "1e8d2c09"
   },
   "source": [
    "## Final Result\n",
    "\n",
    "By dropping all NAN and not imputing them and using only a small balanced dataset of 15k observations we can significantly increase the performance of our baseline model which had a macro F1 score of only 0.570. The reason being (1) the imbalance and (2) that the 2 main predictors contain most of the missing values.\n",
    "\n",
    "However, the problem for the future remains: the new data that the trained model would be used on, will most likely also be imbalanced and it is questionable how well the model, which was trained on balanced data, would perform on real world data.\n",
    "\n",
    "\n",
    "### Future work\n",
    "One could try to build a classifies for the two features, although it is questionable how good they would be. One might infer by Age and Vehicle age the probability of having had an accident in the past, but Switch is most likely not predictable given the information we have."
   ]
  }
 ],
 "metadata": {
  "accelerator": "TPU",
  "colab": {
   "provenance": []
  },
  "gpuClass": "standard",
  "kernelspec": {
   "display_name": "Python 3 (ipykernel)",
   "language": "python",
   "name": "python3"
  },
  "language_info": {
   "codemirror_mode": {
    "name": "ipython",
    "version": 3
   },
   "file_extension": ".py",
   "mimetype": "text/x-python",
   "name": "python",
   "nbconvert_exporter": "python",
   "pygments_lexer": "ipython3",
   "version": "3.9.12"
  }
 },
 "nbformat": 4,
 "nbformat_minor": 5
}
